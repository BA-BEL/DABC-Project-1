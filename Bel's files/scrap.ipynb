{
 "cells": [
  {
   "attachments": {},
   "cell_type": "markdown",
   "metadata": {},
   "source": [
    "### Scrap"
   ]
  },
  {
   "cell_type": "code",
   "execution_count": null,
   "metadata": {},
   "outputs": [],
   "source": [
    "### Scrap\n",
    "id = 1\n",
    "# base_url = f\"https://api.themoviedb.org/3/movie/{id}?api_key={tmdb_api_key}\"\n",
    "\n",
    "base_url = f\"https://api.themoviedb.org/3/discover/movie?api_key={tmdb_api_key}&language=en-AU&release_date.gte=2000&watch_provider=Netflix&sort_by=release_date.asc\"\n",
    "\n",
    "# base_url = \"https://api.themoviedb.org/3/discover/movie\"\n",
    "\n",
    "params = {\"api_key\":tmdb_api_key,\n",
    "            \"language\":\"en-AU\",\n",
    "            \"release_date.gte\":\"2000\",\n",
    "            \"watch_provider\":\"Netflix|Stan|HBO\",\n",
    "            \"sort_by\":\"release_date.asc\"}\n",
    "\n",
    "response = requests.get(base_url, params = params)\n",
    "\n",
    "# response = requests.get(base_url)\n",
    "\n",
    "response"
   ]
  },
  {
   "attachments": {},
   "cell_type": "markdown",
   "metadata": {},
   "source": [
    "### Movie of the night"
   ]
  },
  {
   "cell_type": "code",
   "execution_count": null,
   "metadata": {},
   "outputs": [],
   "source": [
    "### Movie of the Night stuff\n",
    "#Base URL of Movie of the Night API\n",
    "base_url = \"https://streaming-availability.p.rapidapi.com/search/basic\"\n",
    "\n",
    "\n",
    "querystring = {\"country\":\"au\",\n",
    "\t\t\t\"service\":\"netflix\",\n",
    "\t\t\t\"type\":\"series\",\n",
    "\t\t\t\"output_language\":\"en\",\n",
    "\t\t\t\"language\":\"en\"}\n",
    "\n",
    "headers = {\n",
    "\t\"X-RapidAPI-Key\": rapid_api_key,\n",
    "\t\"X-RapidAPI-Host\": \"streaming-availability.p.rapidapi.com\"\n",
    "}\n",
    "\n",
    "response = requests.get(base_url, headers=headers, params=querystring)\n",
    "\n",
    "print(response)\n",
    "movie_jsons = response.json()\n",
    "\n",
    "len(movie_jsons[\"results\"])\n",
    "movie_jsons[\"results\"][7][\"title\"]\n",
    "for x in movie_jsons[\"results\"][0].keys():\n",
    "    print(x)\n",
    "\n",
    "\n",
    "movie_jsons[\"results\"][0]\n",
    "np.arange(2010,2023,1)\n",
    "#Genre id reference for MOTN\n",
    "\n",
    "gurl = \"https://streaming-availability.p.rapidapi.com/genres\"\n",
    "\n",
    "headers = {\n",
    "\t\"X-RapidAPI-Key\": rapid_api_key,\n",
    "\t\"X-RapidAPI-Host\": \"streaming-availability.p.rapidapi.com\"\n",
    "}\n",
    "\n",
    "response = requests.request(\"GET\", gurl, headers=headers).json()\n",
    "\n",
    "response\n",
    "page = 1\n",
    "limit_reached = False\n",
    "\n",
    "imdbID = []\n",
    "tmdbID = []\n",
    "imdbRating = []\n",
    "imdbVoteCount= []\n",
    "tmdbRating = []\n",
    "genres = []\n",
    "countries = []\n",
    "year = []\n",
    "firstAirYear = []\n",
    "age = []\n",
    "status = []\n",
    "originalLanguage = []\n",
    "title = []\n",
    "\n",
    "\n",
    "while limit_reached is False:\n",
    "\n",
    "    querystring = {\"country\":\"au\",\n",
    "\t\t\t\"service\":\"netflix\",\n",
    "\t\t\t\"type\":\"movies\",\n",
    "\t\t\t\"output_language\":\"en\",\n",
    "\t\t\t\"language\":\"en\",\n",
    "            \"page\":page}\n",
    "\n",
    "    headers = {\n",
    "        \"X-RapidAPI-Key\": rapid_api_key,\n",
    "        \"X-RapidAPI-Host\": \"streaming-availability.p.rapidapi.com\"\n",
    "    }\n",
    "\n",
    "    response = requests.get(base_url, headers=headers, params=querystring)\n",
    "\n",
    "    movies = response.json()\n",
    "    print(movies)\n",
    "    try:\n",
    "        t = movies[\"results\"][0][\"title\"]\n",
    "        title.append(t)\n",
    "        page += 1\n",
    "    except Exception as e:\n",
    "        print(e.args[0])\n",
    "        limit_reached = True\n",
    "\n",
    "print(f\"Reached {page} page(s)\")\n",
    "series[\"results\"]"
   ]
  },
  {
   "attachments": {},
   "cell_type": "markdown",
   "metadata": {},
   "source": []
  },
  {
   "attachments": {},
   "cell_type": "markdown",
   "metadata": {},
   "source": []
  },
  {
   "attachments": {},
   "cell_type": "markdown",
   "metadata": {},
   "source": [
    "### OMDb"
   ]
  },
  {
   "cell_type": "code",
   "execution_count": null,
   "metadata": {},
   "outputs": [],
   "source": [
    "### OMDb stuff\n",
    "base_url = \"http://www.omdbapi.com/?\"\n",
    "\n",
    "year_to_search = \"&\" + \"2010\"\n",
    "\n",
    "\n",
    "url = f\"{base_url}{omdb_api_key}\"\n",
    "\n",
    "response = requests.get(base_url, params= params)\n",
    "response\n",
    "response.json()\n",
    "\n"
   ]
  },
  {
   "attachments": {},
   "cell_type": "markdown",
   "metadata": {},
   "source": [
    "### Pandas"
   ]
  },
  {
   "cell_type": "code",
   "execution_count": null,
   "metadata": {},
   "outputs": [],
   "source": [
    "### Pandas stuff with csvs\n",
    "\n",
    "netinpath = os.path.join(\"Resources\",\"Netflix\",\"titles.csv\")\n",
    "\n",
    "df = pd.read_csv(netinpath)\n",
    "rec_df = df.loc[df[\"release_year\"]>=2010]\n",
    "rec_df.count()\n",
    "\n",
    "rec_df = rec_df[rec_df[\"imdb_id\"].notna()]\n",
    "rec_df[[\"imdb_id\",\n",
    "        \"title\",\n",
    "        \"type\",\n",
    "        \"release_year\",\n",
    "        \"genres\",\n",
    "        \"production_countries\",\n",
    "        \"imdb_score\"]]\n",
    "rec_df[\"genres\"]\n",
    "\n"
   ]
  }
 ],
 "metadata": {
  "kernelspec": {
   "display_name": "PythonData",
   "language": "python",
   "name": "python3"
  },
  "language_info": {
   "name": "python",
   "version": "3.7.7 (default, May  6 2020, 04:59:01) \n[Clang 4.0.1 (tags/RELEASE_401/final)]"
  },
  "orig_nbformat": 4,
  "vscode": {
   "interpreter": {
    "hash": "d2eff5886470145a01c1a6cacbdc4ca5ce9faf89a8ffd10be794f3be292ac244"
   }
  }
 },
 "nbformat": 4,
 "nbformat_minor": 2
}
